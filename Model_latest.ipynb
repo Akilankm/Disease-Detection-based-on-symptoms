{
 "cells": [
  {
   "cell_type": "markdown",
   "metadata": {
    "colab_type": "text",
    "id": "GpY-ArzB1rH-"
   },
   "source": [
    "# **Disease Detection using Symptoms and Treatment recommendation**\n",
    "\n",
    "This notebook contains all the models applied on the scraped dataset and contains the accuracy comparison plot.\n"
   ]
  },
  {
   "cell_type": "code",
   "execution_count": 2,
   "metadata": {
    "colab": {},
    "colab_type": "code",
    "id": "lEsjGGNblruf"
   },
   "outputs": [],
   "source": [
    "# all necessary imports\n",
    "import warnings\n",
    "from decimal import Decimal\n",
    "import pandas as pd\n",
    "from sklearn.tree import DecisionTreeClassifier\n",
    "from sklearn.linear_model import LogisticRegression\n",
    "from sklearn.neighbors import KNeighborsClassifier\n",
    "from sklearn.svm import SVC\n",
    "from sklearn.metrics import accuracy_score\n",
    "from sklearn.model_selection import train_test_split, cross_val_score\n",
    "from sklearn.model_selection import GridSearchCV\n",
    "from sklearn.naive_bayes import MultinomialNB\n",
    "from sklearn.ensemble import RandomForestClassifier\n",
    "from sklearn.neural_network import MLPClassifier\n",
    "from xgboost import XGBClassifier\n",
    "import matplotlib.pyplot as plt\n",
    "warnings.simplefilter(\"ignore\")"
   ]
  },
  {
   "cell_type": "markdown",
   "metadata": {
    "colab_type": "text",
    "id": "t1sbUx8C22zG"
   },
   "source": [
    "**Disease Symptom dataset** was created in a separate python program.\n",
    "\n",
    "**Dataset scrapping** was done using **NHP website** and **wikipedia data**"
   ]
  },
  {
   "cell_type": "code",
   "execution_count": 3,
   "metadata": {
    "colab": {},
    "colab_type": "code",
    "id": "xTIhMk1Ilz7O"
   },
   "outputs": [],
   "source": [
    "# Load Dataset scraped from NHP (https://www.nhp.gov.in/disease-a-z) & Wikipedia\n",
    "# Scrapping and creation of dataset csv is done in a separate program\n",
    "df_comb = pd.read_csv(\"Dataset/dis_sym_dataset_comb.csv\")\n",
    "\n",
    "# creation of features and label for training the models\n",
    "X = df_comb.iloc[:, 1:]\n",
    "Y = df_comb.iloc[:, 0:1]"
   ]
  },
  {
   "cell_type": "code",
   "execution_count": 4,
   "metadata": {},
   "outputs": [
    {
     "data": {
      "text/html": [
       "<div>\n",
       "<style scoped>\n",
       "    .dataframe tbody tr th:only-of-type {\n",
       "        vertical-align: middle;\n",
       "    }\n",
       "\n",
       "    .dataframe tbody tr th {\n",
       "        vertical-align: top;\n",
       "    }\n",
       "\n",
       "    .dataframe thead th {\n",
       "        text-align: right;\n",
       "    }\n",
       "</style>\n",
       "<table border=\"1\" class=\"dataframe\">\n",
       "  <thead>\n",
       "    <tr style=\"text-align: right;\">\n",
       "      <th></th>\n",
       "      <th>abdominal cramp</th>\n",
       "      <th>abdominal distention</th>\n",
       "      <th>abnormal behavior</th>\n",
       "      <th>abnormal bleeding</th>\n",
       "      <th>abnormal sensation</th>\n",
       "      <th>abnormally frequent</th>\n",
       "      <th>abscess</th>\n",
       "      <th>aching</th>\n",
       "      <th>acne</th>\n",
       "      <th>acquiring drinking alcohol taking lot time</th>\n",
       "      <th>...</th>\n",
       "      <th>wet</th>\n",
       "      <th>wheezing</th>\n",
       "      <th>white patch vaginal discharge</th>\n",
       "      <th>widespread pain</th>\n",
       "      <th>withdrawal occurring stopping</th>\n",
       "      <th>worrying</th>\n",
       "      <th>yellow skin</th>\n",
       "      <th>yellowish coloration skin white eye</th>\n",
       "      <th>yellowish skin</th>\n",
       "      <th>yellowish skin crust</th>\n",
       "    </tr>\n",
       "  </thead>\n",
       "  <tbody>\n",
       "    <tr>\n",
       "      <th>0</th>\n",
       "      <td>0</td>\n",
       "      <td>0</td>\n",
       "      <td>0</td>\n",
       "      <td>0</td>\n",
       "      <td>0</td>\n",
       "      <td>0</td>\n",
       "      <td>0</td>\n",
       "      <td>0</td>\n",
       "      <td>0</td>\n",
       "      <td>0</td>\n",
       "      <td>...</td>\n",
       "      <td>0</td>\n",
       "      <td>0</td>\n",
       "      <td>0</td>\n",
       "      <td>0</td>\n",
       "      <td>0</td>\n",
       "      <td>0</td>\n",
       "      <td>0</td>\n",
       "      <td>0</td>\n",
       "      <td>0</td>\n",
       "      <td>0</td>\n",
       "    </tr>\n",
       "    <tr>\n",
       "      <th>1</th>\n",
       "      <td>0</td>\n",
       "      <td>0</td>\n",
       "      <td>0</td>\n",
       "      <td>0</td>\n",
       "      <td>0</td>\n",
       "      <td>0</td>\n",
       "      <td>0</td>\n",
       "      <td>0</td>\n",
       "      <td>0</td>\n",
       "      <td>0</td>\n",
       "      <td>...</td>\n",
       "      <td>0</td>\n",
       "      <td>0</td>\n",
       "      <td>0</td>\n",
       "      <td>0</td>\n",
       "      <td>0</td>\n",
       "      <td>0</td>\n",
       "      <td>0</td>\n",
       "      <td>0</td>\n",
       "      <td>0</td>\n",
       "      <td>0</td>\n",
       "    </tr>\n",
       "    <tr>\n",
       "      <th>2</th>\n",
       "      <td>0</td>\n",
       "      <td>0</td>\n",
       "      <td>0</td>\n",
       "      <td>0</td>\n",
       "      <td>0</td>\n",
       "      <td>0</td>\n",
       "      <td>0</td>\n",
       "      <td>0</td>\n",
       "      <td>0</td>\n",
       "      <td>0</td>\n",
       "      <td>...</td>\n",
       "      <td>0</td>\n",
       "      <td>0</td>\n",
       "      <td>0</td>\n",
       "      <td>0</td>\n",
       "      <td>0</td>\n",
       "      <td>0</td>\n",
       "      <td>0</td>\n",
       "      <td>0</td>\n",
       "      <td>0</td>\n",
       "      <td>0</td>\n",
       "    </tr>\n",
       "    <tr>\n",
       "      <th>3</th>\n",
       "      <td>0</td>\n",
       "      <td>0</td>\n",
       "      <td>0</td>\n",
       "      <td>0</td>\n",
       "      <td>0</td>\n",
       "      <td>0</td>\n",
       "      <td>0</td>\n",
       "      <td>0</td>\n",
       "      <td>0</td>\n",
       "      <td>0</td>\n",
       "      <td>...</td>\n",
       "      <td>0</td>\n",
       "      <td>0</td>\n",
       "      <td>0</td>\n",
       "      <td>0</td>\n",
       "      <td>0</td>\n",
       "      <td>0</td>\n",
       "      <td>0</td>\n",
       "      <td>0</td>\n",
       "      <td>0</td>\n",
       "      <td>0</td>\n",
       "    </tr>\n",
       "    <tr>\n",
       "      <th>4</th>\n",
       "      <td>0</td>\n",
       "      <td>0</td>\n",
       "      <td>0</td>\n",
       "      <td>0</td>\n",
       "      <td>0</td>\n",
       "      <td>0</td>\n",
       "      <td>0</td>\n",
       "      <td>0</td>\n",
       "      <td>0</td>\n",
       "      <td>0</td>\n",
       "      <td>...</td>\n",
       "      <td>0</td>\n",
       "      <td>0</td>\n",
       "      <td>0</td>\n",
       "      <td>0</td>\n",
       "      <td>0</td>\n",
       "      <td>0</td>\n",
       "      <td>0</td>\n",
       "      <td>0</td>\n",
       "      <td>0</td>\n",
       "      <td>0</td>\n",
       "    </tr>\n",
       "  </tbody>\n",
       "</table>\n",
       "<p>5 rows × 489 columns</p>\n",
       "</div>"
      ],
      "text/plain": [
       "   abdominal cramp  abdominal distention  abnormal behavior  \\\n",
       "0                0                     0                  0   \n",
       "1                0                     0                  0   \n",
       "2                0                     0                  0   \n",
       "3                0                     0                  0   \n",
       "4                0                     0                  0   \n",
       "\n",
       "   abnormal bleeding  abnormal sensation  abnormally frequent  abscess  \\\n",
       "0                  0                   0                    0        0   \n",
       "1                  0                   0                    0        0   \n",
       "2                  0                   0                    0        0   \n",
       "3                  0                   0                    0        0   \n",
       "4                  0                   0                    0        0   \n",
       "\n",
       "   aching  acne  acquiring drinking alcohol taking lot time  ...  wet  \\\n",
       "0       0     0                                           0  ...    0   \n",
       "1       0     0                                           0  ...    0   \n",
       "2       0     0                                           0  ...    0   \n",
       "3       0     0                                           0  ...    0   \n",
       "4       0     0                                           0  ...    0   \n",
       "\n",
       "   wheezing  white patch vaginal discharge  widespread pain  \\\n",
       "0         0                              0                0   \n",
       "1         0                              0                0   \n",
       "2         0                              0                0   \n",
       "3         0                              0                0   \n",
       "4         0                              0                0   \n",
       "\n",
       "   withdrawal occurring stopping  worrying  yellow skin  \\\n",
       "0                              0         0            0   \n",
       "1                              0         0            0   \n",
       "2                              0         0            0   \n",
       "3                              0         0            0   \n",
       "4                              0         0            0   \n",
       "\n",
       "   yellowish coloration skin white eye  yellowish skin  yellowish skin crust  \n",
       "0                                    0               0                     0  \n",
       "1                                    0               0                     0  \n",
       "2                                    0               0                     0  \n",
       "3                                    0               0                     0  \n",
       "4                                    0               0                     0  \n",
       "\n",
       "[5 rows x 489 columns]"
      ]
     },
     "execution_count": 4,
     "metadata": {},
     "output_type": "execute_result"
    }
   ],
   "source": [
    "X.head()"
   ]
  },
  {
   "cell_type": "code",
   "execution_count": 5,
   "metadata": {},
   "outputs": [
    {
     "data": {
      "text/html": [
       "<div>\n",
       "<style scoped>\n",
       "    .dataframe tbody tr th:only-of-type {\n",
       "        vertical-align: middle;\n",
       "    }\n",
       "\n",
       "    .dataframe tbody tr th {\n",
       "        vertical-align: top;\n",
       "    }\n",
       "\n",
       "    .dataframe thead th {\n",
       "        text-align: right;\n",
       "    }\n",
       "</style>\n",
       "<table border=\"1\" class=\"dataframe\">\n",
       "  <thead>\n",
       "    <tr style=\"text-align: right;\">\n",
       "      <th></th>\n",
       "      <th>label_dis</th>\n",
       "    </tr>\n",
       "  </thead>\n",
       "  <tbody>\n",
       "    <tr>\n",
       "      <th>0</th>\n",
       "      <td>Abscess</td>\n",
       "    </tr>\n",
       "    <tr>\n",
       "      <th>1</th>\n",
       "      <td>Abscess</td>\n",
       "    </tr>\n",
       "    <tr>\n",
       "      <th>2</th>\n",
       "      <td>Abscess</td>\n",
       "    </tr>\n",
       "    <tr>\n",
       "      <th>3</th>\n",
       "      <td>Abscess</td>\n",
       "    </tr>\n",
       "    <tr>\n",
       "      <th>4</th>\n",
       "      <td>Abscess</td>\n",
       "    </tr>\n",
       "  </tbody>\n",
       "</table>\n",
       "</div>"
      ],
      "text/plain": [
       "  label_dis\n",
       "0   Abscess\n",
       "1   Abscess\n",
       "2   Abscess\n",
       "3   Abscess\n",
       "4   Abscess"
      ]
     },
     "execution_count": 5,
     "metadata": {},
     "output_type": "execute_result"
    }
   ],
   "source": [
    "Y.head()"
   ]
  },
  {
   "cell_type": "markdown",
   "metadata": {
    "colab_type": "text",
    "id": "wB98cbQc3kX1"
   },
   "source": [
    "*Train Test Split*"
   ]
  },
  {
   "cell_type": "code",
   "execution_count": 6,
   "metadata": {
    "colab": {},
    "colab_type": "code",
    "id": "43edxNr-l37s"
   },
   "outputs": [],
   "source": [
    "# splitting data for training the classifiers and testing\n",
    "x_train, x_test, y_train, y_test = train_test_split(X, Y, test_size=0.10)"
   ]
  },
  {
   "cell_type": "code",
   "execution_count": 7,
   "metadata": {
    "colab": {},
    "colab_type": "code",
    "id": "NFWxSoKRl6iU"
   },
   "outputs": [],
   "source": [
    "# lists used for accuracy plots\n",
    "accuracy_list = []\n",
    "cross_accuracy_list = []\n",
    "model_list = []"
   ]
  },
  {
   "cell_type": "markdown",
   "metadata": {
    "colab_type": "text",
    "id": "50u3FJaH3r0k"
   },
   "source": [
    "# **Multinomial Naive Bayes Classifier**\n",
    "\n",
    "MNB works better on discrete features and the multinomial distribution usually requires integer counts. However, it also works with fractional counts such tf-idf."
   ]
  },
  {
   "cell_type": "code",
   "execution_count": 8,
   "metadata": {
    "colab": {
     "base_uri": "https://localhost:8080/",
     "height": 50
    },
    "colab_type": "code",
    "id": "OUrShCRcl8Gs",
    "outputId": "fa8d8306-89bf-4c5d-e23f-58a60d0bf647"
   },
   "outputs": [
    {
     "name": "stdout",
     "output_type": "stream",
     "text": [
      "Accuracy (MNB) : 84.73%\n",
      "Cross Validation Accuracy (MNB): 84.50%\n"
     ]
    }
   ],
   "source": [
    "# Multinomial NB Classifier\n",
    "mnb = MultinomialNB()\n",
    "mnb = mnb.fit(X, Y)\n",
    "# prediction of labels for the test data\n",
    "mnb_pred = mnb.predict(x_test)\n",
    "# calculation of accuracy score based on predictions performed\n",
    "# converting to Decimal as rounding with float is inaccurate\n",
    "acc_mnb = round(Decimal(accuracy_score(y_test, mnb_pred) * 100), 2)\n",
    "accuracy_list.append(acc_mnb)\n",
    "model_list.append(\"MNB\")\n",
    "print(f\"Accuracy (MNB) : {acc_mnb}%\")\n",
    "\n",
    "# Cross Validation Accuracy MNB\n",
    "# performing cross validation with 5 different splits\n",
    "scores_mnb = cross_val_score(mnb, X, Y, cv=5)\n",
    "# mean of cross val score (accuracy)\n",
    "score = round(Decimal(scores_mnb.mean() * 100), 2)\n",
    "cross_accuracy_list.append(score)\n",
    "print(f\"Cross Validation Accuracy (MNB): {score}%\")"
   ]
  },
  {
   "cell_type": "markdown",
   "metadata": {
    "colab_type": "text",
    "id": "gEJWlm2u3yRc"
   },
   "source": [
    "# **Random Forest Classifier**\n",
    "\n",
    "RF classifier is an estimator that fits a number of decision tree classifiers on various sub-samples of the dataset and take the average to improve predicting accuracy."
   ]
  },
  {
   "cell_type": "code",
   "execution_count": 9,
   "metadata": {
    "colab": {
     "base_uri": "https://localhost:8080/",
     "height": 50
    },
    "colab_type": "code",
    "id": "owiCcnlvmAP9",
    "outputId": "0e011b23-5965-4fa7-ee6d-416ebc2070ed"
   },
   "outputs": [
    {
     "name": "stdout",
     "output_type": "stream",
     "text": [
      "Accuracy (RF) : 91.29%\n",
      "Cross Validation Accuracy (RF): 86.84%\n"
     ]
    }
   ],
   "source": [
    "# RF Classifier\n",
    "rf = RandomForestClassifier(n_estimators=10, criterion='entropy')\n",
    "rf = rf.fit(X, Y)\n",
    "# prediction of labels for the test data\n",
    "rf_pred = rf.predict(x_test)\n",
    "acc_rf = round(Decimal(accuracy_score(y_test, rf_pred) * 100), 2)\n",
    "accuracy_list.append(acc_rf)\n",
    "model_list.append(\"RF\")\n",
    "print(f\"Accuracy (RF) : {acc_rf}%\")\n",
    "\n",
    "# Cross Validation Accuracy RF\n",
    "# performing cross validation with 5 different splits\n",
    "scores_rf = cross_val_score(rf, X, Y, cv=5)\n",
    "# mean of cross val score (accuracy)\n",
    "score = round(Decimal(scores_rf.mean() * 100), 2)\n",
    "cross_accuracy_list.append(score)\n",
    "print(f\"Cross Validation Accuracy (RF): {score}%\")"
   ]
  },
  {
   "cell_type": "markdown",
   "metadata": {
    "colab_type": "text",
    "id": "xxdvB5Bz9yEx"
   },
   "source": [
    "# **K-Nearest Neighbor Classifier**\n",
    "\n",
    "The principle behind nearest neighbor method is to find a predefined number of training samples closest in distance to the new point, and predict the label from these. No. of samples used here is 7."
   ]
  },
  {
   "cell_type": "code",
   "execution_count": 10,
   "metadata": {
    "colab": {
     "base_uri": "https://localhost:8080/",
     "height": 50
    },
    "colab_type": "code",
    "id": "OfIMLCfPmCqr",
    "outputId": "2040dc76-c519-433e-e558-504b38f9d227"
   },
   "outputs": [
    {
     "name": "stdout",
     "output_type": "stream",
     "text": [
      "Accuracy (KNN) : 91.06%\n",
      "Cross Validation Accuracy (KNN): 85.25%\n"
     ]
    }
   ],
   "source": [
    "# KNN Classifier\n",
    "knn = KNeighborsClassifier(n_neighbors=7, weights='distance', n_jobs=4)\n",
    "knn = knn.fit(X, Y)\n",
    "# prediction of labels for the test data\n",
    "knn_pred = knn.predict(x_test)\n",
    "acc_knn = round(Decimal(accuracy_score(y_test, knn_pred) * 100), 2)\n",
    "accuracy_list.append(acc_knn)\n",
    "model_list.append(\"KNN\")\n",
    "print(f\"Accuracy (KNN) : {acc_knn}%\")\n",
    "\n",
    "# Cross Validation Accuracy KNN\n",
    "# performing cross validation with 5 different splits\n",
    "scores_knn = cross_val_score(knn, X, Y, cv=5)\n",
    "# mean of cross val score (accuracy)\n",
    "score = round(Decimal(scores_knn.mean() * 100), 2)\n",
    "cross_accuracy_list.append(score)\n",
    "print(f\"Cross Validation Accuracy (KNN): {score}%\")"
   ]
  },
  {
   "cell_type": "markdown",
   "metadata": {
    "colab_type": "text",
    "id": "x4j2f2dH94dU"
   },
   "source": [
    "# **Logistic Regression Classifier**\n",
    "\n",
    "Logistic Regression uses OvR (One Vs Rest) approach when classification is multi class."
   ]
  },
  {
   "cell_type": "code",
   "execution_count": 11,
   "metadata": {
    "colab": {
     "base_uri": "https://localhost:8080/",
     "height": 50
    },
    "colab_type": "code",
    "id": "-ZBVt3BlmE7c",
    "outputId": "173b9591-29c3-4ad4-9139-1bcf2102b9e6"
   },
   "outputs": [
    {
     "name": "stdout",
     "output_type": "stream",
     "text": [
      "Accuracy (LR) : 90.61%\n",
      "Cross Validation Accuracy (LR): 89.19%\n"
     ]
    }
   ],
   "source": [
    "# LR Classifier\n",
    "lr = LogisticRegression()\n",
    "lr = lr.fit(X, Y)\n",
    "# prediction of labels for the test data\n",
    "lr_pred = lr.predict(x_test)\n",
    "acc_lr = round(Decimal(accuracy_score(y_test, lr_pred) * 100), 2)\n",
    "accuracy_list.append(acc_lr)\n",
    "model_list.append(\"LR\")\n",
    "print(f\"Accuracy (LR) : {acc_lr}%\")\n",
    "\n",
    "# Cross Validation Accuracy LR\n",
    "# performing cross validation with 5 different splits\n",
    "scores_lr = cross_val_score(lr, X, Y, cv=5)\n",
    "# mean of cross val score (accuracy)\n",
    "score = round(Decimal(scores_lr.mean() * 100), 2)\n",
    "cross_accuracy_list.append(score)\n",
    "print(f\"Cross Validation Accuracy (LR): {score}%\")"
   ]
  },
  {
   "cell_type": "markdown",
   "metadata": {
    "colab_type": "text",
    "id": "Zbz-aL_Q9_U0"
   },
   "source": [
    "# **Support Vector Machine Classifier**\n",
    "\n",
    "SVM follows OvO (One Vs One) scheme when dealing with multi class classification. SVM classifier works by drawing a straight line between two classes. All the data points that fall on one side of the line will be labeled as one class and all the points that fall on the other side will be labeled as the second. This seems simple for binary class but the complexity is increased when we have multiple classes. In our classification problem we have 261 classes (equal to diseases)."
   ]
  },
  {
   "cell_type": "code",
   "execution_count": 12,
   "metadata": {
    "colab": {
     "base_uri": "https://localhost:8080/",
     "height": 50
    },
    "colab_type": "code",
    "id": "JDSJc0RlmG-0",
    "outputId": "ee7dc68c-51a3-4630-ed30-9a421fb43ba4"
   },
   "outputs": [
    {
     "name": "stdout",
     "output_type": "stream",
     "text": [
      "Accuracy (SVM) : 89.71%\n",
      "Cross Validation Accuracy (SVM): 88.62%\n"
     ]
    }
   ],
   "source": [
    "# SVM Classifier\n",
    "svm = SVC()\n",
    "svm = svm.fit(X, Y)\n",
    "# prediction of labels for the test data\n",
    "svm_pred = svm.predict(x_test)\n",
    "acc_svm = round(Decimal(accuracy_score(y_test, svm_pred) * 100), 2)\n",
    "accuracy_list.append(acc_svm)\n",
    "model_list.append(\"SVM\")\n",
    "print(f\"Accuracy (SVM) : {acc_svm}%\")\n",
    "\n",
    "# Cross Validation Accuracy SVM\n",
    "# performing cross validation with 5 different splits\n",
    "scores_svm = cross_val_score(svm, X, Y, cv=5)\n",
    "# mean of cross val score (accuracy)\n",
    "score = round(Decimal(scores_svm.mean() * 100), 2)\n",
    "cross_accuracy_list.append(score)\n",
    "print(f\"Cross Validation Accuracy (SVM): {score}%\")"
   ]
  },
  {
   "cell_type": "markdown",
   "metadata": {
    "colab_type": "text",
    "id": "uUYxizhO-FtC"
   },
   "source": [
    "# **Decision Tree Classifier**\n",
    "\n",
    "DT is one of the easiest and popular classification algorithms to understand and interpret. It can be utilized for both classification and regression. DT follows a tree like structure to reach to a decision whether the given sample under consideration belong to which class."
   ]
  },
  {
   "cell_type": "code",
   "execution_count": 13,
   "metadata": {
    "colab": {
     "base_uri": "https://localhost:8080/",
     "height": 50
    },
    "colab_type": "code",
    "id": "CwFDYYBQmKAc",
    "outputId": "fca7c327-b54d-4ffb-9eb8-4711372773cb"
   },
   "outputs": [
    {
     "name": "stdout",
     "output_type": "stream",
     "text": [
      "Accuracy (DT) : 91.29%\n",
      "Cross Validation Accuracy (DT): 83.59%\n"
     ]
    }
   ],
   "source": [
    "# DT Classifier\n",
    "dt = DecisionTreeClassifier()\n",
    "dt = dt.fit(X, Y)\n",
    "# prediction of labels for the test data\n",
    "dt_pred = dt.predict(x_test)\n",
    "acc_dt = round(Decimal(accuracy_score(y_test, dt_pred) * 100), 2)\n",
    "accuracy_list.append(acc_dt)\n",
    "model_list.append(\"DT\")\n",
    "print(f\"Accuracy (DT) : {acc_dt}%\")\n",
    "\n",
    "# Cross Validation Accuracy DT\n",
    "# performing cross validation with 5 different splits\n",
    "scores_dt = cross_val_score(dt, X, Y, cv=5)\n",
    "# mean of cross val score (accuracy)\n",
    "score = round(Decimal(scores_dt.mean() * 100), 2)\n",
    "cross_accuracy_list.append(score)\n",
    "print(f\"Cross Validation Accuracy (DT): {score}%\")"
   ]
  },
  {
   "cell_type": "markdown",
   "metadata": {
    "colab_type": "text",
    "id": "2zI71-uw-JMq"
   },
   "source": [
    "# **Multilayer Perceptron Classifier**\n",
    "\n",
    "MLP is a feed forward ANN (Artificial Neural Network) which is extensively used for classification purpose."
   ]
  },
  {
   "cell_type": "code",
   "execution_count": 14,
   "metadata": {
    "colab": {
     "base_uri": "https://localhost:8080/",
     "height": 50
    },
    "colab_type": "code",
    "id": "nwVwjevImMQU",
    "outputId": "18989cdc-3840-47c7-92dd-f5775446042a"
   },
   "outputs": [
    {
     "name": "stdout",
     "output_type": "stream",
     "text": [
      "Accuracy (MLP) : 90.95%\n",
      "Cross Validation Accuracy (MLP): 87.12%\n"
     ]
    }
   ],
   "source": [
    "# MLP Classifier\n",
    "mlp = MLPClassifier(hidden_layer_sizes=(32, 32, 32), activation='relu', solver='adam', max_iter=50)\n",
    "mlp = mlp.fit(X, Y)\n",
    "# prediction of labels for the test data\n",
    "mlp_pred = mlp.predict(x_test)\n",
    "acc_mlp = round(Decimal(accuracy_score(y_test, mlp_pred) * 100), 2)\n",
    "accuracy_list.append(acc_mlp)\n",
    "model_list.append(\"MLP\")\n",
    "print(f\"Accuracy (MLP) : {acc_mlp}%\")\n",
    "\n",
    "# Cross Validation Accuracy MLP\n",
    "# performing cross validation with 5 different splits\n",
    "scores_mlp = cross_val_score(mlp, X, Y, cv=5)\n",
    "# mean of cross val score (accuracy)\n",
    "score = round(Decimal(scores_mlp.mean() * 100), 2)\n",
    "cross_accuracy_list.append(score)\n",
    "print(f\"Cross Validation Accuracy (MLP): {score}%\")"
   ]
  },
  {
   "cell_type": "markdown",
   "metadata": {
    "colab_type": "text",
    "id": "x0deyBf7-QSD"
   },
   "source": [
    "# **Accuracy Comparison Plot for all the classifiers**"
   ]
  },
  {
   "cell_type": "code",
   "execution_count": 15,
   "metadata": {
    "colab": {
     "base_uri": "https://localhost:8080/",
     "height": 647
    },
    "colab_type": "code",
    "id": "c_4WiPo4mR2M",
    "outputId": "e233f609-b457-47cc-cdaa-9905da4a9355"
   },
   "outputs": [
    {
     "data": {
      "image/png": "[encoded data removed]",
      "text/plain": [
       "<Figure size 720x720 with 1 Axes>"
      ]
     },
     "metadata": {
      "needs_background": "light"
     },
     "output_type": "display_data"
    }
   ],
   "source": [
    "# comparison plot for all classifiers with their accuracy\n",
    "plt.style.use('seaborn-poster')\n",
    "fig = plt.figure(figsize=(10, 10))\n",
    "ax = fig.add_subplot()\n",
    "plt.title(\"Model Vs Accuracy\")\n",
    "plt.xlabel('Classifier')\n",
    "plt.ylabel('Accuracy (%)')\n",
    "plt.bar(model_list, accuracy_list, color='green')\n",
    "for i, j in enumerate(accuracy_list):\n",
    "    ax.text(float(i)-0.15, float(j)+0.7, str(j), color='blue')\n",
    "plt.show()"
   ]
  },
  {
   "cell_type": "markdown",
   "metadata": {
    "colab_type": "text",
    "id": "ja6vRv2M-l_s"
   },
   "source": [
    "# **Cross Validation Accuracy Comparison Plot for all the classifiers**"
   ]
  },
  {
   "cell_type": "code",
   "execution_count": 16,
   "metadata": {
    "colab": {
     "base_uri": "https://localhost:8080/",
     "height": 647
    },
    "colab_type": "code",
    "id": "8WmaR3XBzT0e",
    "outputId": "77a1a225-6af3-4088-8414-c29ae6a621da"
   },
   "outputs": [
    {
     "data": {
      "image/png": "[encoded data removed]",
      "text/plain": [
       "<Figure size 720x720 with 1 Axes>"
      ]
     },
     "metadata": {
      "needs_background": "light"
     },
     "output_type": "display_data"
    }
   ],
   "source": [
    "# comparison plot for all classifiers with their accuracy\n",
    "plt.style.use('seaborn-poster')\n",
    "fig = plt.figure(figsize=(10, 10))\n",
    "ax = fig.add_subplot()\n",
    "plt.title(\"Model Vs Cross Validation Accuracy\")\n",
    "plt.xlabel('Classifier')\n",
    "plt.ylabel('Accuracy (%)')\n",
    "plt.bar(model_list, cross_accuracy_list, color='yellow')\n",
    "for i, j in enumerate(cross_accuracy_list):\n",
    "    ax.text(float(i)-0.15, float(j)+0.7, str(j), color='blue')\n",
    "plt.show()"
   ]
  },
  {
   "cell_type": "code",
   "execution_count": null,
   "metadata": {},
   "outputs": [],
   "source": []
  },
  {
   "cell_type": "code",
   "execution_count": null,
   "metadata": {},
   "outputs": [],
   "source": []
  }
 ],
 "metadata": {
  "accelerator": "GPU",
  "colab": {
   "collapsed_sections": [],
   "name": "Model_latest.ipynb",
   "provenance": []
  },
  "kernelspec": {
   "display_name": "Python 3",
   "language": "python",
   "name": "python3"
  },
  "language_info": {
   "codemirror_mode": {
    "name": "ipython",
    "version": 3
   },
   "file_extension": ".py",
   "mimetype": "text/x-python",
   "name": "python",
   "nbconvert_exporter": "python",
   "pygments_lexer": "ipython3",
   "version": "3.8.5"
  }
 },
 "nbformat": 4,
 "nbformat_minor": 1
}
